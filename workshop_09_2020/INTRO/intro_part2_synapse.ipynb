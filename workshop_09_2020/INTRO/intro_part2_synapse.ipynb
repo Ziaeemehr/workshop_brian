{
 "cells": [
  {
   "cell_type": "markdown",
   "metadata": {},
   "source": [
    "### [Introduction to Brian part 2: Synapses](https://brian2.readthedocs.io/en/stable/resources/tutorials/2-intro-to-brian-synapses.html)"
   ]
  },
  {
   "cell_type": "code",
   "execution_count": null,
   "metadata": {},
   "outputs": [],
   "source": [
    "from brian2 import *"
   ]
  },
  {
   "cell_type": "markdown",
   "metadata": {},
   "source": [
    "#### The simplest Synapse"
   ]
  },
  {
   "cell_type": "code",
   "execution_count": null,
   "metadata": {},
   "outputs": [],
   "source": [
    "start_scope()\n",
    "\n",
    "eqs = '''\n",
    "dv/dt = (I-v)/tau : 1\n",
    "I : 1\n",
    "tau : second\n",
    "'''\n",
    "G = NeuronGroup(2, eqs, threshold='v>1',\n",
    "               reset='v=0', method='exact')\n",
    "G.I = [2, 0]\n",
    "G.tau = [10, 100]*ms\n",
    "\n",
    "# Comment these two lines out to see what happens without Synapses\n",
    "S = Synapses(G, G, on_pre=\"v_post+=0.2\")\n",
    "S.connect(i=0, j=1)\n",
    "\n",
    "M = StateMonitor(G, 'v', record=True)\n",
    "run(100*ms)\n",
    "plot(M.t/ms, M.v[0], label='Neuron 0')\n",
    "plot(M.t/ms, M.v[1], label='Neuron 1')\n",
    "ylabel('v')\n",
    "xlabel('Time [ms]')\n",
    "legend();"
   ]
  },
  {
   "cell_type": "markdown",
   "metadata": {},
   "source": [
    "### Adding a weight"
   ]
  },
  {
   "cell_type": "code",
   "execution_count": null,
   "metadata": {},
   "outputs": [],
   "source": [
    "start_scope()\n",
    "\n",
    "eqs = '''\n",
    "dv/dt = (I-v)/tau : 1\n",
    "I : 1\n",
    "tau : second\n",
    "'''\n",
    "G = NeuronGroup(3, eqs, threshold='v>1', reset='v = 0', method='exact')\n",
    "G.I = [2, 0, 0]\n",
    "G.tau = [10, 100, 100]*ms\n",
    "\n",
    "# Comment these two lines out to see what happens without Synapses\n",
    "S = Synapses(G, G, 'w : 1', on_pre='v_post += w')\n",
    "S.connect(i=0, j=[1, 2])\n",
    "S.w = 'j*0.2'\n",
    "\n",
    "M = StateMonitor(G, 'v', record=True)\n",
    "\n",
    "run(50*ms)\n",
    "\n",
    "plot(M.t/ms, M.v[0], label='Neuron 0')\n",
    "plot(M.t/ms, M.v[1], label='Neuron 1')\n",
    "plot(M.t/ms, M.v[2], label='Neuron 2')\n",
    "xlabel('Time (ms)')\n",
    "ylabel('v')\n",
    "legend();"
   ]
  },
  {
   "cell_type": "markdown",
   "metadata": {},
   "source": [
    "### Introducing a delay"
   ]
  },
  {
   "cell_type": "code",
   "execution_count": null,
   "metadata": {},
   "outputs": [],
   "source": [
    "start_scope()\n",
    "\n",
    "eqs = '''\n",
    "dv/dt = (I-v)/tau : 1\n",
    "I : 1\n",
    "tau : second\n",
    "'''\n",
    "G = NeuronGroup(3, eqs, \n",
    "                threshold='v>1', \n",
    "                reset='v = 0', \n",
    "                method='exact')\n",
    "G.I = [2, 0, 0]\n",
    "G.tau = [10, 100, 100]*ms\n",
    "\n",
    "# Comment these two lines out to see what happens without Synapses\n",
    "S = Synapses(G, G, 'w : 1', on_pre='v_post += w')\n",
    "S.connect(i=0, j=[1, 2])\n",
    "S.w = 'j*0.2'\n",
    "S.delay = 'j*2*ms'\n",
    "\n",
    "M = StateMonitor(G, 'v', record=True)\n",
    "\n",
    "run(50*ms)\n",
    "\n",
    "plot(M.t/ms, M.v[0], label='Neuron 0')\n",
    "plot(M.t/ms, M.v[1], label='Neuron 1')\n",
    "plot(M.t/ms, M.v[2], label='Neuron 2')\n",
    "xlabel('Time (ms)')\n",
    "ylabel('v')\n",
    "legend();"
   ]
  },
  {
   "cell_type": "markdown",
   "metadata": {},
   "source": [
    "### More complex connectivity"
   ]
  },
  {
   "cell_type": "code",
   "execution_count": null,
   "metadata": {},
   "outputs": [],
   "source": [
    "start_scope()\n",
    "\n",
    "N = 10\n",
    "G = NeuronGroup(N, 'v:1')\n",
    "S = Synapses(G, G)\n",
    "S.connect(condition='i!=j', p=0.2)"
   ]
  },
  {
   "cell_type": "code",
   "execution_count": null,
   "metadata": {},
   "outputs": [],
   "source": [
    "def visualise_connectivity(S):\n",
    "    Ns = len(S.source)\n",
    "    Nt = len(S.target)\n",
    "    figure(figsize=(10, 4))\n",
    "    subplot(121)\n",
    "    plot(zeros(Ns), arange(Ns), 'ok', ms=10)\n",
    "    plot(ones(Nt), arange(Nt), 'ok', ms=10)\n",
    "    for i, j in zip(S.i, S.j):\n",
    "        plot([0, 1], [i, j], '-k')\n",
    "    xticks([0, 1], ['Source', 'Target'])\n",
    "    ylabel('Neuron index')\n",
    "    xlim(-0.1, 1.1)\n",
    "    ylim(-1, max(Ns, Nt))\n",
    "    subplot(122)\n",
    "    plot(S.i, S.j, 'ok')\n",
    "    xlim(-1, Ns)\n",
    "    ylim(-1, Nt)\n",
    "    xlabel('Source neuron index')\n",
    "    ylabel('Target neuron index')\n",
    "\n",
    "visualise_connectivity(S)"
   ]
  },
  {
   "cell_type": "code",
   "execution_count": null,
   "metadata": {},
   "outputs": [],
   "source": [
    "start_scope()\n",
    "\n",
    "N = 10\n",
    "G = NeuronGroup(N, 'v:1')\n",
    "\n",
    "for p in [0.1, 0.5, 1.0]:\n",
    "    S = Synapses(G, G)\n",
    "    S.connect(condition='i!=j', p=p)\n",
    "    visualise_connectivity(S)\n",
    "    suptitle('p = '+str(p))"
   ]
  },
  {
   "cell_type": "code",
   "execution_count": null,
   "metadata": {},
   "outputs": [],
   "source": [
    "start_scope()\n",
    "\n",
    "N = 10\n",
    "G = NeuronGroup(N, 'v:1')\n",
    "\n",
    "S = Synapses(G, G)\n",
    "S.connect(condition='abs(i-j)<4 and i!=j')\n",
    "visualise_connectivity(S)"
   ]
  },
  {
   "cell_type": "code",
   "execution_count": null,
   "metadata": {},
   "outputs": [],
   "source": [
    "start_scope()\n",
    "N=10\n",
    "G=NeuronGroup(N, \"v:1\")\n",
    "S=Synapses(G, G)\n",
    "S.connect(j='k for k in range(i-3, i+4) if i!=k', \n",
    "          skip_if_invalid=True)\n",
    "visualise_connectivity(S)"
   ]
  },
  {
   "cell_type": "code",
   "execution_count": null,
   "metadata": {},
   "outputs": [],
   "source": [
    "start_scope()\n",
    "\n",
    "N = 10\n",
    "G = NeuronGroup(N, 'v:1')\n",
    "\n",
    "S = Synapses(G, G)\n",
    "S.connect(j='i')\n",
    "visualise_connectivity(S)"
   ]
  },
  {
   "cell_type": "code",
   "execution_count": null,
   "metadata": {},
   "outputs": [],
   "source": [
    "start_scope()\n",
    "\n",
    "N = 30\n",
    "neuron_spacing = 50*umetre\n",
    "width = N/4.0*neuron_spacing\n",
    "\n",
    "# Neuron has one variable x, its position\n",
    "G = NeuronGroup(N, 'x : metre')\n",
    "G.x = 'i*neuron_spacing'\n",
    "\n",
    "# All synapses are connected (excluding self-connections)\n",
    "S = Synapses(G, G, 'w : 1')\n",
    "S.connect(condition='i!=j')\n",
    "# Weight varies with distance\n",
    "S.w = 'exp(-(x_pre-x_post)**2/(2*width**2))'\n",
    "\n",
    "scatter(S.x_pre/um, S.x_post/um, S.w*20)\n",
    "xlabel('Source neuron position (um)')\n",
    "ylabel('Target neuron position (um)');"
   ]
  },
  {
   "cell_type": "markdown",
   "metadata": {},
   "source": [
    "### More complex synapse models: STDP"
   ]
  },
  {
   "cell_type": "code",
   "execution_count": null,
   "metadata": {},
   "outputs": [],
   "source": [
    "tau_pre = tau_post = 20*ms\n",
    "A_pre = 0.01\n",
    "A_post = -A_pre * 1.05\n",
    "delta_t = linspace(-50, 50, 100) * ms\n",
    "W = where(delta_t>0, A_pre*exp(-delta_t/tau_pre), \n",
    "          A_post * exp(delta_t/tau_post))\n",
    "plot(delta_t/ms, W)\n",
    "xlabel(r'$\\Delta t$ (ms)')\n",
    "ylabel('W')\n",
    "axhline(0, ls='-', c='k');"
   ]
  },
  {
   "cell_type": "code",
   "execution_count": null,
   "metadata": {},
   "outputs": [],
   "source": [
    "start_scope()\n",
    "\n",
    "taupre = taupost = 20*ms\n",
    "wmax = 0.01\n",
    "Apre = 0.01\n",
    "Apost = -Apre*taupre/taupost*1.05\n",
    "\n",
    "G = NeuronGroup(2, 'v:1', \n",
    "                threshold='t>(1+i)*10*ms', \n",
    "                refractory=100*ms)\n",
    "\n",
    "S = Synapses(G, G,\n",
    "             '''\n",
    "             w : 1\n",
    "             dapre/dt = -apre/taupre : 1 (clock-driven)\n",
    "             dapost/dt = -apost/taupost : 1 (clock-driven)\n",
    "             ''',\n",
    "             on_pre='''\n",
    "             v_post += w\n",
    "             apre += Apre\n",
    "             w = clip(w+apost, 0, wmax)\n",
    "             ''',\n",
    "             on_post='''\n",
    "             apost += Apost\n",
    "             w = clip(w+apre, 0, wmax)\n",
    "             ''', method='linear')\n",
    "S.connect(i=0, j=1)\n",
    "M = StateMonitor(S, ['w', 'apre', 'apost'], record=True)\n",
    "\n",
    "run(30*ms)\n",
    "\n",
    "figure(figsize=(4, 8))\n",
    "subplot(211)\n",
    "plot(M.t/ms, M.apre[0], label='apre')\n",
    "plot(M.t/ms, M.apost[0], label='apost')\n",
    "legend()\n",
    "subplot(212)\n",
    "plot(M.t/ms, M.w[0], label='w')\n",
    "legend(loc='best')\n",
    "xlabel('Time (ms)');"
   ]
  },
  {
   "cell_type": "code",
   "execution_count": null,
   "metadata": {},
   "outputs": [],
   "source": [
    "start_scope()\n",
    "\n",
    "taupre = taupost = 20*ms\n",
    "Apre = 0.01\n",
    "Apost = -Apre*taupre/taupost*1.05\n",
    "tmax = 50*ms\n",
    "N = 100\n",
    "\n",
    "# Presynaptic neurons G spike at times from 0 to tmax\n",
    "# Postsynaptic neurons G spike at times from tmax to 0\n",
    "# So difference in spike times will vary from -tmax to +tmax\n",
    "G = NeuronGroup(N, 'tspike:second', threshold='t>tspike', refractory=100*ms)\n",
    "H = NeuronGroup(N, 'tspike:second', threshold='t>tspike', refractory=100*ms)\n",
    "G.tspike = 'i*tmax/(N-1)'\n",
    "H.tspike = '(N-1-i)*tmax/(N-1)'\n",
    "\n",
    "S = Synapses(G, H,\n",
    "             '''\n",
    "             w : 1\n",
    "             dapre/dt = -apre/taupre : 1 (event-driven)\n",
    "             dapost/dt = -apost/taupost : 1 (event-driven)\n",
    "             ''',\n",
    "             on_pre='''\n",
    "             apre += Apre\n",
    "             w = w+apost\n",
    "             ''',\n",
    "             on_post='''\n",
    "             apost += Apost\n",
    "             w = w+apre\n",
    "             ''')\n",
    "S.connect(j='i')\n",
    "\n",
    "run(tmax+1*ms)\n",
    "\n",
    "plot((H.tspike-G.tspike)/ms, S.w)\n",
    "xlabel(r'$\\Delta t$ (ms)')\n",
    "ylabel(r'$\\Delta w$')\n",
    "axhline(0, ls='-', c='k');"
   ]
  },
  {
   "cell_type": "markdown",
   "metadata": {},
   "source": [
    "#### practice connectivity"
   ]
  },
  {
   "cell_type": "code",
   "execution_count": null,
   "metadata": {},
   "outputs": [],
   "source": [
    "start_scope()\n",
    "\n",
    "N = 11\n",
    "G = NeuronGroup(N, 'v:1')\n",
    "\n",
    "S = Synapses(G, G)\n",
    "S.connect('(abs(i-j)<3) and (i!=j)')\n",
    "visualise_connectivity(S)"
   ]
  },
  {
   "cell_type": "code",
   "execution_count": null,
   "metadata": {},
   "outputs": [],
   "source": [
    "import networkx as nx\n",
    "N = 10\n",
    "K = 3\n",
    "G = nx.watts_strogatz_graph(N, K, 0, seed=1)\n",
    "A = nx.to_numpy_array(G, dtype=int)\n",
    "print(A)"
   ]
  },
  {
   "cell_type": "code",
   "execution_count": null,
   "metadata": {},
   "outputs": [],
   "source": [
    "cols, rows = np.nonzero(A)"
   ]
  },
  {
   "cell_type": "code",
   "execution_count": null,
   "metadata": {},
   "outputs": [],
   "source": [
    "G = NeuronGroup(N, 'v:1')\n",
    "S = Synapses(G, G)\n",
    "S.connect(i=rows, j=cols)\n",
    "S.connect(j='i')\n",
    "visualise_connectivity(S)"
   ]
  },
  {
   "cell_type": "code",
   "execution_count": null,
   "metadata": {},
   "outputs": [],
   "source": []
  }
 ],
 "metadata": {
  "kernelspec": {
   "display_name": "Python 3.6.9 64-bit",
   "language": "python",
   "name": "python36964bit3ec0dbbd46ae448585f9bbd63312a519"
  },
  "language_info": {
   "codemirror_mode": {
    "name": "ipython",
    "version": 3
   },
   "file_extension": ".py",
   "mimetype": "text/x-python",
   "name": "python",
   "nbconvert_exporter": "python",
   "pygments_lexer": "ipython3",
   "version": "3.6.9"
  }
 },
 "nbformat": 4,
 "nbformat_minor": 4
}
