{
 "cells": [
  {
   "cell_type": "markdown",
   "metadata": {},
   "source": [
    "### HH model\n"
   ]
  },
  {
   "cell_type": "code",
   "execution_count": null,
   "metadata": {},
   "outputs": [],
   "source": [
    "import brian2 as b2\n",
    "import matplotlib.pyplot as plt\n",
    "import numpy as np"
   ]
  },
  {
   "cell_type": "code",
   "execution_count": null,
   "metadata": {},
   "outputs": [],
   "source": [
    "def plot_data(state_monitor, title=None):\n",
    "    \"\"\"Plots the state_monitor variable \"vm\" vs. time.\n",
    "\n",
    "    Args:\n",
    "        state_monitor (StateMonitor): the data to plot\n",
    "        title (string, optional): plot title to display\n",
    "    \"\"\"\n",
    "\n",
    "    fig, ax = plt.subplots(1, figsize=(10, 3))\n",
    "\n",
    "    ax.plot(state_monitor.t / b2.ms, state_monitor.vm[0] / b2.mV, lw=2)\n",
    "\n",
    "    ax.set_xlabel(\"t [ms]\")\n",
    "    ax.set_ylabel(\"v [mV]\")\n",
    "    plt.grid()\n",
    "\n",
    "    plt.axis((\n",
    "        0,\n",
    "        np.max(state_monitor.t / b2.ms),\n",
    "        -100, 50))\n",
    "\n",
    "    if title is not None:\n",
    "        ax.set_title(title)\n",
    "\n",
    "    plt.show();"
   ]
  },
  {
   "cell_type": "code",
   "execution_count": null,
   "metadata": {},
   "outputs": [],
   "source": [
    "import brian2 as b2\n",
    "import matplotlib.pyplot as plt\n",
    "import numpy as np\n",
    "\n",
    "\n",
    "def simulate_HH_neuron(I_e, simulation_time):\n",
    "\n",
    "    \"\"\"A Hodgkin-Huxley neuron implemented in Brian2.\n",
    "\n",
    "    Args:\n",
    "        I_e: Input current injected into the HH neuron\n",
    "        simulation_time (float): Simulation time [seconds]\n",
    "\n",
    "    Returns:\n",
    "        StateMonitor: Brian2 StateMonitor with recorded field \"vm\"\n",
    "    \"\"\"\n",
    "\n",
    "    # neuron parameters\n",
    "    El = -59 * b2.mV\n",
    "    EK = -82 * b2.mV\n",
    "    ENa = 45 * b2.mV\n",
    "    gl = 0.3 * b2.msiemens\n",
    "    gK = 36 * b2.msiemens\n",
    "    gNa = 120 * b2.msiemens\n",
    "    C = 1 * b2.ufarad\n",
    "\n",
    "    # forming HH model with differential equations\n",
    "    eqs = \"\"\"\n",
    "    membrane_Im = I_e + gNa*m**3*h*(ENa-vm) + \\\n",
    "        gl*(El-vm) + gK*n**4*(EK-vm) : amp\n",
    "    \n",
    "    alphan = 0.01/mV * (-60.0*mV - vm) / (exp((-60.0*mV - vm) / (10.0*mV)) - 1.0)/ms: Hz\n",
    "    alpham = (vm + 45.0*mV) / (10.0*mV) / (1.0 - exp(-(vm + 45.0*mV) / (10.0*mV)))/ms : Hz\n",
    "    alphah = \n",
    "    \n",
    "    betan = 0.125 * exp(-(vm + 70.0*mV) / (80.0*mV))/ms: Hz\n",
    "    betam = \n",
    "    betah = \n",
    "    \n",
    "    dn/dt = alphan*(1-n)-betan*n : 1\n",
    "    dm/dt = \n",
    "    dh/dt = \n",
    "    \n",
    "    dvm/dt = \n",
    "    \"\"\"\n",
    "    \n",
    "    neuron = b2.NeuronGroup(1, eqs, method=\"exponential_euler\")\n",
    "\n",
    "    # parameter initialization [come from x_inf(v) {x:m,n,h}]\n",
    "    neuron.vm = -70*b2.mV\n",
    "    neuron.m = 0.05\n",
    "    neuron.h = 0.60\n",
    "    neuron.n = 0.32\n",
    "\n",
    "    # tracking parameters\n",
    "    st_mon = b2.StateMonitor(neuron, \"vm\", record=True)\n",
    "\n",
    "    # running the simulation\n",
    "    hh_net = b2.Network(neuron)\n",
    "    hh_net.add(st_mon)\n",
    "    hh_net.run(simulation_time)\n",
    "\n",
    "    return st_mon\n",
    "\n",
    "I_e = 7.0* b2.uA\n",
    "# state_monitor = simulate_HH_neuron(I_e, 200 * b2.ms)\n",
    "# plot_data(state_monitor, title=\"HH Neuron\")\n"
   ]
  },
  {
   "cell_type": "code",
   "execution_count": null,
   "metadata": {},
   "outputs": [],
   "source": []
  }
 ],
 "metadata": {
  "kernelspec": {
   "display_name": "Python 3.6.9 64-bit",
   "language": "python",
   "name": "python36964bit3ec0dbbd46ae448585f9bbd63312a519"
  },
  "language_info": {
   "codemirror_mode": {
    "name": "ipython",
    "version": 3
   },
   "file_extension": ".py",
   "mimetype": "text/x-python",
   "name": "python",
   "nbconvert_exporter": "python",
   "pygments_lexer": "ipython3",
   "version": "3.6.9"
  }
 },
 "nbformat": 4,
 "nbformat_minor": 4
}
