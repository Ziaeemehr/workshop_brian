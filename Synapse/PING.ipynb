{
 "cells": [
  {
   "cell_type": "markdown",
   "metadata": {},
   "source": [
    "- Code by : [Abolfazl Ziaeemehr](https://github.com/Ziaeemehr)\n",
    "\n",
    "-  I am going to connect a Wang-Buszaki to a RTM neuron through a conductance base synapse\n",
    "#### Reference:\n",
    "-  Introduction to modeling neural dynamics, Borgers, chapter 30\n",
    "-  [Brian discourse](https://brian.discourse.group/t/how-to-implement-a-conductance-base-synapse/77/9)"
   ]
  },
  {
   "cell_type": "code",
   "execution_count": null,
   "metadata": {},
   "outputs": [],
   "source": []
  }
 ],
 "metadata": {
  "kernelspec": {
   "display_name": "Python 3.6.9 64-bit",
   "language": "python",
   "name": "python36964bit3ec0dbbd46ae448585f9bbd63312a519"
  },
  "language_info": {
   "codemirror_mode": {
    "name": "ipython",
    "version": 3
   },
   "file_extension": ".py",
   "mimetype": "text/x-python",
   "name": "python",
   "nbconvert_exporter": "python",
   "pygments_lexer": "ipython3",
   "version": "3.6.9"
  }
 },
 "nbformat": 4,
 "nbformat_minor": 4
}
